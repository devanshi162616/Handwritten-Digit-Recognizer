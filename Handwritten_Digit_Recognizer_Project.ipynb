{
  "nbformat": 4,
  "nbformat_minor": 0,
  "metadata": {
    "colab": {
      "provenance": []
    },
    "kernelspec": {
      "name": "python3",
      "display_name": "Python 3"
    },
    "language_info": {
      "name": "python"
    }
  },
  "cells": [
    {
      "cell_type": "code",
      "source": [],
      "metadata": {
        "id": "vcsZeJwDPLfC"
      },
      "execution_count": null,
      "outputs": []
    },
    {
      "cell_type": "markdown",
      "source": [
        "**Define the Training data**"
      ],
      "metadata": {
        "id": "pVHUycjfzLDb"
      }
    },
    {
      "cell_type": "code",
      "source": [
        "import numpy as np\n",
        "import tensorflow as tf\n",
        "from tensorflow import keras\n",
        "from tensorflow.keras import layers"
      ],
      "metadata": {
        "id": "zYigalq0Cdbu"
      },
      "execution_count": null,
      "outputs": []
    },
    {
      "cell_type": "code",
      "source": [
        "import numpy as np\n",
        "x=np.random.random((5000,32))\n",
        "y=np.random.random((5000,5))\n",
        "y\n",
        "#xtrain"
      ],
      "metadata": {
        "id": "XMMw-O4ozR7G",
        "colab": {
          "base_uri": "https://localhost:8080/"
        },
        "outputId": "dcf355a3-0631-47ea-e02c-d50d761c62a5"
      },
      "execution_count": null,
      "outputs": [
        {
          "output_type": "execute_result",
          "data": {
            "text/plain": [
              "array([[0.30338141, 0.68080829, 0.63866802, 0.40716833, 0.91890885],\n",
              "       [0.38391436, 0.33448264, 0.15025779, 0.55230112, 0.23821246],\n",
              "       [0.1904009 , 0.32389954, 0.20035755, 0.10919361, 0.07589286],\n",
              "       ...,\n",
              "       [0.61002783, 0.18817966, 0.45655784, 0.45022775, 0.35947848],\n",
              "       [0.87935318, 0.71630995, 0.72000204, 0.01339295, 0.95595574],\n",
              "       [0.90224026, 0.736896  , 0.75264467, 0.40507046, 0.30747507]])"
            ]
          },
          "metadata": {},
          "execution_count": 3
        }
      ]
    },
    {
      "cell_type": "code",
      "source": [],
      "metadata": {
        "id": "sCYD7UlJzz_l"
      },
      "execution_count": null,
      "outputs": []
    },
    {
      "cell_type": "markdown",
      "source": [
        "**Define the neural network**"
      ],
      "metadata": {
        "id": "HLS_f9oWzSlZ"
      }
    },
    {
      "cell_type": "code",
      "source": [
        "#Sequential model or functional(skip) model\n",
        "from keras import models\n",
        "#layers to define layers like input layer output layer hiden layer\n",
        "from keras import layers\n"
      ],
      "metadata": {
        "id": "ifG_BZGhzaEf"
      },
      "execution_count": null,
      "outputs": []
    },
    {
      "cell_type": "code",
      "source": [
        "x.shape[1]"
      ],
      "metadata": {
        "colab": {
          "base_uri": "https://localhost:8080/"
        },
        "id": "cTBTWi0-6g_7",
        "outputId": "fba6e9da-7213-46bc-f364-8ba37a7ddc3d"
      },
      "execution_count": null,
      "outputs": [
        {
          "output_type": "execute_result",
          "data": {
            "text/plain": [
              "32"
            ]
          },
          "metadata": {},
          "execution_count": 5
        }
      ]
    },
    {
      "cell_type": "code",
      "source": [
        "model=models.Sequential()"
      ],
      "metadata": {
        "id": "lTi_enkT2RvQ"
      },
      "execution_count": null,
      "outputs": []
    },
    {
      "cell_type": "code",
      "source": [
        "model.add(layers.Dense(16,activation='relu',input_dim=x.shape[1]))\n",
        "model.add(layers.Dense(10,activation='relu'))\n",
        "model.add(layers.Dense(8,activation='relu'))\n",
        "model.add(layers.Dense(5,activation='softmax'))"
      ],
      "metadata": {
        "id": "Kzw284s12gNC"
      },
      "execution_count": null,
      "outputs": []
    },
    {
      "cell_type": "markdown",
      "source": [
        "**Configure the learning Process**"
      ],
      "metadata": {
        "id": "jQZrIsMgzaxu"
      }
    },
    {
      "cell_type": "code",
      "source": [
        "#Optimizer optimises the errors\n",
        "from keras import optimizers\n",
        "from keras import metrics"
      ],
      "metadata": {
        "id": "8O3ZX-wYzgkV"
      },
      "execution_count": null,
      "outputs": []
    },
    {
      "cell_type": "code",
      "source": [
        "model.compile(optimizer='sgd',\n",
        "              loss='categorical_crossentropy',\n",
        "              metrics=['accuracy'])"
      ],
      "metadata": {
        "id": "XqP6g0TW56AM"
      },
      "execution_count": null,
      "outputs": []
    },
    {
      "cell_type": "markdown",
      "source": [
        "**Train Your Model**"
      ],
      "metadata": {
        "id": "Ri-q8kmzzg4S"
      }
    },
    {
      "cell_type": "code",
      "source": [
        "model.fit(x, y, batch_size=150 , epochs=10)"
      ],
      "metadata": {
        "colab": {
          "base_uri": "https://localhost:8080/"
        },
        "id": "IETIf5D88bDg",
        "outputId": "bf1d0640-9593-40e9-a112-83dbacf4f11d"
      },
      "execution_count": null,
      "outputs": [
        {
          "output_type": "stream",
          "name": "stdout",
          "text": [
            "Epoch 1/10\n",
            "34/34 [==============================] - 1s 2ms/step - loss: 4.4578 - accuracy: 0.2024\n",
            "Epoch 2/10\n",
            "34/34 [==============================] - 0s 4ms/step - loss: nan - accuracy: 0.2092\n",
            "Epoch 3/10\n",
            "34/34 [==============================] - 0s 3ms/step - loss: nan - accuracy: 0.2036\n",
            "Epoch 4/10\n",
            "34/34 [==============================] - 0s 4ms/step - loss: nan - accuracy: 0.2036\n",
            "Epoch 5/10\n",
            "34/34 [==============================] - 0s 8ms/step - loss: nan - accuracy: 0.2036\n",
            "Epoch 6/10\n",
            "34/34 [==============================] - 0s 6ms/step - loss: nan - accuracy: 0.2036\n",
            "Epoch 7/10\n",
            "34/34 [==============================] - 0s 4ms/step - loss: nan - accuracy: 0.2036\n",
            "Epoch 8/10\n",
            "34/34 [==============================] - 0s 2ms/step - loss: nan - accuracy: 0.2036\n",
            "Epoch 9/10\n",
            "34/34 [==============================] - 0s 2ms/step - loss: nan - accuracy: 0.2036\n",
            "Epoch 10/10\n",
            "34/34 [==============================] - 0s 3ms/step - loss: nan - accuracy: 0.2036\n"
          ]
        },
        {
          "output_type": "execute_result",
          "data": {
            "text/plain": [
              "<keras.callbacks.History at 0x7f87caa6f710>"
            ]
          },
          "metadata": {},
          "execution_count": 10
        }
      ]
    },
    {
      "cell_type": "code",
      "source": [
        "model.summary()"
      ],
      "metadata": {
        "colab": {
          "base_uri": "https://localhost:8080/"
        },
        "id": "A0_FHeQdAPNe",
        "outputId": "508d2ef3-92ac-4922-aa19-e87c79a24a2f"
      },
      "execution_count": null,
      "outputs": [
        {
          "output_type": "stream",
          "name": "stdout",
          "text": [
            "Model: \"sequential\"\n",
            "_________________________________________________________________\n",
            " Layer (type)                Output Shape              Param #   \n",
            "=================================================================\n",
            " dense (Dense)               (None, 16)                528       \n",
            "                                                                 \n",
            " dense_1 (Dense)             (None, 10)                170       \n",
            "                                                                 \n",
            " dense_2 (Dense)             (None, 8)                 88        \n",
            "                                                                 \n",
            " dense_3 (Dense)             (None, 5)                 45        \n",
            "                                                                 \n",
            "=================================================================\n",
            "Total params: 831\n",
            "Trainable params: 831\n",
            "Non-trainable params: 0\n",
            "_________________________________________________________________\n"
          ]
        }
      ]
    },
    {
      "cell_type": "code",
      "source": [
        "#keras.utils.plot_model(model, \"my_first_model.png\")"
      ],
      "metadata": {
        "id": "WbwEuMZCC2Tc"
      },
      "execution_count": null,
      "outputs": []
    },
    {
      "cell_type": "code",
      "source": [
        "#keras.utils.plot_model(model, \"my_first_model_with_shape_info.png\", show_shapes=True)"
      ],
      "metadata": {
        "id": "5f1klvnlCOBG"
      },
      "execution_count": null,
      "outputs": []
    },
    {
      "cell_type": "markdown",
      "source": [
        "**Hand written digit recogniser**"
      ],
      "metadata": {
        "id": "745EWpxaU4-m"
      }
    },
    {
      "cell_type": "code",
      "source": [
        "import tensorflow\n",
        "from keras import models\n",
        "from keras.layers import Dense,Dropout\n",
        "from tensorflow.keras.utils import to_categorical\n",
        "from keras.datasets import mnist\n",
        "from keras.utils.vis_utils import model_to_dot\n",
        "from IPython.display import SVG"
      ],
      "metadata": {
        "id": "CUxksIoOSg2R"
      },
      "execution_count": null,
      "outputs": []
    },
    {
      "cell_type": "code",
      "source": [
        "!pip install livelossplot"
      ],
      "metadata": {
        "id": "zMVlqsAEYn1a",
        "colab": {
          "base_uri": "https://localhost:8080/"
        },
        "outputId": "6773cc8f-51ec-44dc-e80d-0211d4f188e7"
      },
      "execution_count": null,
      "outputs": [
        {
          "output_type": "stream",
          "name": "stdout",
          "text": [
            "Looking in indexes: https://pypi.org/simple, https://us-python.pkg.dev/colab-wheels/public/simple/\n",
            "Collecting livelossplot\n",
            "  Downloading livelossplot-0.5.5-py3-none-any.whl (22 kB)\n",
            "Requirement already satisfied: numpy<1.22 in /usr/local/lib/python3.7/dist-packages (from livelossplot) (1.21.6)\n",
            "Requirement already satisfied: bokeh in /usr/local/lib/python3.7/dist-packages (from livelossplot) (2.3.3)\n",
            "Requirement already satisfied: matplotlib in /usr/local/lib/python3.7/dist-packages (from livelossplot) (3.2.2)\n",
            "Requirement already satisfied: ipython==7.* in /usr/local/lib/python3.7/dist-packages (from livelossplot) (7.9.0)\n",
            "Requirement already satisfied: pickleshare in /usr/local/lib/python3.7/dist-packages (from ipython==7.*->livelossplot) (0.7.5)\n",
            "Requirement already satisfied: pexpect in /usr/local/lib/python3.7/dist-packages (from ipython==7.*->livelossplot) (4.8.0)\n",
            "Requirement already satisfied: prompt-toolkit<2.1.0,>=2.0.0 in /usr/local/lib/python3.7/dist-packages (from ipython==7.*->livelossplot) (2.0.10)\n",
            "Requirement already satisfied: traitlets>=4.2 in /usr/local/lib/python3.7/dist-packages (from ipython==7.*->livelossplot) (5.1.1)\n",
            "Requirement already satisfied: setuptools>=18.5 in /usr/local/lib/python3.7/dist-packages (from ipython==7.*->livelossplot) (57.4.0)\n",
            "Requirement already satisfied: backcall in /usr/local/lib/python3.7/dist-packages (from ipython==7.*->livelossplot) (0.2.0)\n",
            "Requirement already satisfied: decorator in /usr/local/lib/python3.7/dist-packages (from ipython==7.*->livelossplot) (4.4.2)\n",
            "Requirement already satisfied: pygments in /usr/local/lib/python3.7/dist-packages (from ipython==7.*->livelossplot) (2.6.1)\n",
            "Collecting jedi>=0.10\n",
            "  Downloading jedi-0.18.1-py2.py3-none-any.whl (1.6 MB)\n",
            "\u001b[K     |████████████████████████████████| 1.6 MB 9.5 MB/s \n",
            "\u001b[?25hRequirement already satisfied: parso<0.9.0,>=0.8.0 in /usr/local/lib/python3.7/dist-packages (from jedi>=0.10->ipython==7.*->livelossplot) (0.8.3)\n",
            "Requirement already satisfied: six>=1.9.0 in /usr/local/lib/python3.7/dist-packages (from prompt-toolkit<2.1.0,>=2.0.0->ipython==7.*->livelossplot) (1.15.0)\n",
            "Requirement already satisfied: wcwidth in /usr/local/lib/python3.7/dist-packages (from prompt-toolkit<2.1.0,>=2.0.0->ipython==7.*->livelossplot) (0.2.5)\n",
            "Requirement already satisfied: typing-extensions>=3.7.4 in /usr/local/lib/python3.7/dist-packages (from bokeh->livelossplot) (4.1.1)\n",
            "Requirement already satisfied: tornado>=5.1 in /usr/local/lib/python3.7/dist-packages (from bokeh->livelossplot) (5.1.1)\n",
            "Requirement already satisfied: Jinja2>=2.9 in /usr/local/lib/python3.7/dist-packages (from bokeh->livelossplot) (2.11.3)\n",
            "Requirement already satisfied: pillow>=7.1.0 in /usr/local/lib/python3.7/dist-packages (from bokeh->livelossplot) (7.1.2)\n",
            "Requirement already satisfied: python-dateutil>=2.1 in /usr/local/lib/python3.7/dist-packages (from bokeh->livelossplot) (2.8.2)\n",
            "Requirement already satisfied: packaging>=16.8 in /usr/local/lib/python3.7/dist-packages (from bokeh->livelossplot) (21.3)\n",
            "Requirement already satisfied: PyYAML>=3.10 in /usr/local/lib/python3.7/dist-packages (from bokeh->livelossplot) (6.0)\n",
            "Requirement already satisfied: MarkupSafe>=0.23 in /usr/local/lib/python3.7/dist-packages (from Jinja2>=2.9->bokeh->livelossplot) (2.0.1)\n",
            "Requirement already satisfied: pyparsing!=3.0.5,>=2.0.2 in /usr/local/lib/python3.7/dist-packages (from packaging>=16.8->bokeh->livelossplot) (3.0.9)\n",
            "Requirement already satisfied: kiwisolver>=1.0.1 in /usr/local/lib/python3.7/dist-packages (from matplotlib->livelossplot) (1.4.4)\n",
            "Requirement already satisfied: cycler>=0.10 in /usr/local/lib/python3.7/dist-packages (from matplotlib->livelossplot) (0.11.0)\n",
            "Requirement already satisfied: ptyprocess>=0.5 in /usr/local/lib/python3.7/dist-packages (from pexpect->ipython==7.*->livelossplot) (0.7.0)\n",
            "Installing collected packages: jedi, livelossplot\n",
            "Successfully installed jedi-0.18.1 livelossplot-0.5.5\n"
          ]
        }
      ]
    },
    {
      "cell_type": "code",
      "source": [
        "#livelossplot plot the loss and accuracy value in real world,\n",
        "#after each epoch plot will be created\n",
        "import livelossplot\n",
        "plot_losses=livelossplot.PlotLossesKeras()"
      ],
      "metadata": {
        "id": "OzbEpMcoU3eO"
      },
      "execution_count": null,
      "outputs": []
    },
    {
      "cell_type": "code",
      "source": [
        "#Load the data\n",
        "(xtrain,ytrain),(xtest,ytest)=mnist.load_data()\n",
        "xtrain.shape"
      ],
      "metadata": {
        "id": "wC55Rd14Y4u_",
        "colab": {
          "base_uri": "https://localhost:8080/"
        },
        "outputId": "47861812-8fb9-4bde-fe11-c562cafbcda0"
      },
      "execution_count": null,
      "outputs": [
        {
          "output_type": "stream",
          "name": "stdout",
          "text": [
            "Downloading data from https://storage.googleapis.com/tensorflow/tf-keras-datasets/mnist.npz\n",
            "11493376/11490434 [==============================] - 0s 0us/step\n",
            "11501568/11490434 [==============================] - 0s 0us/step\n"
          ]
        },
        {
          "output_type": "execute_result",
          "data": {
            "text/plain": [
              "(60000, 28, 28)"
            ]
          },
          "metadata": {},
          "execution_count": 17
        }
      ]
    },
    {
      "cell_type": "code",
      "source": [
        "xtest.shape"
      ],
      "metadata": {
        "colab": {
          "base_uri": "https://localhost:8080/"
        },
        "id": "_sEhW9msLL_W",
        "outputId": "ededb8d1-66a7-4e82-d86e-48e857821c7a"
      },
      "execution_count": null,
      "outputs": [
        {
          "output_type": "execute_result",
          "data": {
            "text/plain": [
              "(10000, 28, 28)"
            ]
          },
          "metadata": {},
          "execution_count": 18
        }
      ]
    },
    {
      "cell_type": "code",
      "source": [
        "#xtrain.shape\n",
        "xtrain=xtrain.reshape(60000,784)\n",
        "xtest=xtest.reshape(10000,784)\n"
      ],
      "metadata": {
        "id": "9s2uI-0HeQTc"
      },
      "execution_count": null,
      "outputs": []
    },
    {
      "cell_type": "code",
      "source": [
        "xtrain"
      ],
      "metadata": {
        "colab": {
          "base_uri": "https://localhost:8080/"
        },
        "id": "Ic8nAuxBqWKZ",
        "outputId": "3d77f12e-49be-4db1-f71f-cc25965bfaff"
      },
      "execution_count": null,
      "outputs": [
        {
          "output_type": "execute_result",
          "data": {
            "text/plain": [
              "array([[0, 0, 0, ..., 0, 0, 0],\n",
              "       [0, 0, 0, ..., 0, 0, 0],\n",
              "       [0, 0, 0, ..., 0, 0, 0],\n",
              "       ...,\n",
              "       [0, 0, 0, ..., 0, 0, 0],\n",
              "       [0, 0, 0, ..., 0, 0, 0],\n",
              "       [0, 0, 0, ..., 0, 0, 0]], dtype=uint8)"
            ]
          },
          "metadata": {},
          "execution_count": 20
        }
      ]
    },
    {
      "cell_type": "code",
      "source": [
        "xtrain=xtrain/xtrain.max()\n",
        "xtest=xtest/xtest.max()\n"
      ],
      "metadata": {
        "id": "aKxaVrQnoiT5"
      },
      "execution_count": null,
      "outputs": []
    },
    {
      "cell_type": "code",
      "source": [
        "#ytest"
      ],
      "metadata": {
        "id": "4n048v27M3w_"
      },
      "execution_count": null,
      "outputs": []
    },
    {
      "cell_type": "code",
      "source": [
        "#xtrain.shape\n",
        "ytrain=to_categorical(ytrain)\n",
        "ytest=to_categorical(ytest)\n"
      ],
      "metadata": {
        "id": "FHD030O1Z6vl"
      },
      "execution_count": null,
      "outputs": []
    },
    {
      "cell_type": "code",
      "source": [
        "ytrain.shape"
      ],
      "metadata": {
        "id": "KGlO3IatlDex",
        "outputId": "fa329f95-bd31-4555-d823-0faf0e209470",
        "colab": {
          "base_uri": "https://localhost:8080/"
        }
      },
      "execution_count": null,
      "outputs": [
        {
          "output_type": "execute_result",
          "data": {
            "text/plain": [
              "(60000, 10)"
            ]
          },
          "metadata": {},
          "execution_count": 24
        }
      ]
    },
    {
      "cell_type": "code",
      "source": [
        "#xtest.shape"
      ],
      "metadata": {
        "id": "-McsF6J6as5Q"
      },
      "execution_count": null,
      "outputs": []
    },
    {
      "cell_type": "code",
      "source": [
        "#Build Model"
      ],
      "metadata": {
        "id": "VRHJbazwb3VQ"
      },
      "execution_count": null,
      "outputs": []
    },
    {
      "cell_type": "code",
      "source": [
        "#xtrain.shape[1]*xtrain.shape[2]\n",
        "xtrain.shape\n",
        "#xtrain.shape[1]"
      ],
      "metadata": {
        "colab": {
          "base_uri": "https://localhost:8080/"
        },
        "id": "_0TdTF_tc88e",
        "outputId": "3098cdf8-f571-4ec0-fcc7-8d9d77dd38e3"
      },
      "execution_count": null,
      "outputs": [
        {
          "output_type": "execute_result",
          "data": {
            "text/plain": [
              "(60000, 784)"
            ]
          },
          "metadata": {},
          "execution_count": 27
        }
      ]
    },
    {
      "cell_type": "code",
      "source": [
        "model=models.Sequential()\n",
        "model.add(layers.Dense(200,activation='relu',input_dim=xtrain.shape[1]))\n",
        "model.add(Dropout(0.4))\n",
        "model.add(layers.Dense(200,activation='relu'))\n",
        "model.add(Dropout(0.2))\n",
        "model.add(layers.Dense(10,activation='softmax'))"
      ],
      "metadata": {
        "id": "oBSOwlm0cNp5"
      },
      "execution_count": null,
      "outputs": []
    },
    {
      "cell_type": "code",
      "source": [
        "#Compile the model"
      ],
      "metadata": {
        "id": "i82bd6cdhw4K"
      },
      "execution_count": null,
      "outputs": []
    },
    {
      "cell_type": "code",
      "source": [
        "model.compile(optimizer='sgd',\n",
        "              loss='categorical_crossentropy',\n",
        "              metrics=['accuracy'])"
      ],
      "metadata": {
        "id": "jgREQ0iAhzfI"
      },
      "execution_count": null,
      "outputs": []
    },
    {
      "cell_type": "code",
      "source": [
        "#Train Model"
      ],
      "metadata": {
        "id": "48UyeK4UiJ5Y"
      },
      "execution_count": null,
      "outputs": []
    },
    {
      "cell_type": "code",
      "source": [
        "model.fit(xtrain,ytrain,epochs=20,\n",
        "          callbacks=(plot_losses),\n",
        "          validation_data=(xtest,ytest))"
      ],
      "metadata": {
        "colab": {
          "base_uri": "https://localhost:8080/",
          "height": 724
        },
        "id": "UZsfH-REiLyB",
        "outputId": "96e9b040-a42f-4c7f-81b9-6c1b2b4f2d6e"
      },
      "execution_count": null,
      "outputs": [
        {
          "output_type": "display_data",
          "data": {
            "text/plain": [
              "<Figure size 864x576 with 2 Axes>"
            ],
            "image/png": "[encoded data removed]"
          },
          "metadata": {
            "needs_background": "light"
          }
        },
        {
          "output_type": "stream",
          "name": "stdout",
          "text": [
            "accuracy\n",
            "\ttraining         \t (min:    0.749, max:    0.964, cur:    0.964)\n",
            "\tvalidation       \t (min:    0.907, max:    0.974, cur:    0.974)\n",
            "Loss\n",
            "\ttraining         \t (min:    0.118, max:    0.821, cur:    0.118)\n",
            "\tvalidation       \t (min:    0.083, max:    0.329, cur:    0.083)\n",
            "\b\b\b\b\b\b\b\b\b\b\b\b\b\b\b\b\b\b\b\b\b\b\b\b\b\b\b\b\b\b\b\b\b\b\b\b\b\b\b\b\b\b\b\b\b\b\b\b\b\b\b\b\b\b\b\b\b\b\b\b\b\b\b\b\b\b\b\b\b\b\b\b\b\b\b\b\b\b\b\b\b\b\b\b\b\b\r1875/1875 [==============================] - 9s 5ms/step - loss: 0.1184 - accuracy: 0.9642 - val_loss: 0.0826 - val_accuracy: 0.9741\n"
          ]
        },
        {
          "output_type": "execute_result",
          "data": {
            "text/plain": [
              "<keras.callbacks.History at 0x7f87c64aae90>"
            ]
          },
          "metadata": {},
          "execution_count": 32
        }
      ]
    },
    {
      "cell_type": "code",
      "source": [
        "model.summary()"
      ],
      "metadata": {
        "colab": {
          "base_uri": "https://localhost:8080/"
        },
        "id": "UfDCdC7lnD-k",
        "outputId": "8ea50881-892b-48f3-db5a-c64181ae4c73"
      },
      "execution_count": null,
      "outputs": [
        {
          "output_type": "stream",
          "name": "stdout",
          "text": [
            "Model: \"sequential_1\"\n",
            "_________________________________________________________________\n",
            " Layer (type)                Output Shape              Param #   \n",
            "=================================================================\n",
            " dense_4 (Dense)             (None, 200)               157000    \n",
            "                                                                 \n",
            " dropout (Dropout)           (None, 200)               0         \n",
            "                                                                 \n",
            " dense_5 (Dense)             (None, 200)               40200     \n",
            "                                                                 \n",
            " dropout_1 (Dropout)         (None, 200)               0         \n",
            "                                                                 \n",
            " dense_6 (Dense)             (None, 10)                2010      \n",
            "                                                                 \n",
            "=================================================================\n",
            "Total params: 199,210\n",
            "Trainable params: 199,210\n",
            "Non-trainable params: 0\n",
            "_________________________________________________________________\n"
          ]
        }
      ]
    },
    {
      "cell_type": "code",
      "source": [
        "#prediction"
      ],
      "metadata": {
        "id": "BQE7ASHDqr8S"
      },
      "execution_count": null,
      "outputs": []
    },
    {
      "cell_type": "code",
      "source": [
        "import matplotlib.pyplot as plt"
      ],
      "metadata": {
        "id": "HatO_Rn5oDnR"
      },
      "execution_count": null,
      "outputs": []
    },
    {
      "cell_type": "code",
      "source": [
        "plt.imshow(xtest[100].reshape(28,28))"
      ],
      "metadata": {
        "colab": {
          "base_uri": "https://localhost:8080/",
          "height": 282
        },
        "id": "5u3voi5TnnlT",
        "outputId": "b75a4b36-2226-4bf0-e24b-eb6922d82c11"
      },
      "execution_count": null,
      "outputs": [
        {
          "output_type": "execute_result",
          "data": {
            "text/plain": [
              "<matplotlib.image.AxesImage at 0x7f87c41a8850>"
            ]
          },
          "metadata": {},
          "execution_count": 36
        },
        {
          "output_type": "display_data",
          "data": {
            "text/plain": [
              "<Figure size 432x288 with 1 Axes>"
            ],
            "image/png": "[encoded data removed]"
          },
          "metadata": {
            "needs_background": "light"
          }
        }
      ]
    },
    {
      "cell_type": "code",
      "source": [
        "print(np.argmax(model.predict(xtest[100].reshape(1,784))))\n",
        "print(np.argmax(ytest[100]))\n",
        "import matplotlib.pyplot as plt\n",
        "\n",
        "plt.imshow(xtest[100].reshape(28,28))"
      ],
      "metadata": {
        "colab": {
          "base_uri": "https://localhost:8080/",
          "height": 317
        },
        "id": "-K7ghjiZquIW",
        "outputId": "9e918c49-a5ab-41f4-c18c-0c0fc7a036ac"
      },
      "execution_count": null,
      "outputs": [
        {
          "output_type": "stream",
          "name": "stdout",
          "text": [
            "6\n",
            "6\n"
          ]
        },
        {
          "output_type": "execute_result",
          "data": {
            "text/plain": [
              "<matplotlib.image.AxesImage at 0x7f87c4149690>"
            ]
          },
          "metadata": {},
          "execution_count": 37
        },
        {
          "output_type": "display_data",
          "data": {
            "text/plain": [
              "<Figure size 432x288 with 1 Axes>"
            ],
            "image/png": "[encoded data removed]"
          },
          "metadata": {
            "needs_background": "light"
          }
        }
      ]
    },
    {
      "cell_type": "code",
      "source": [
        "tsp=[]\n",
        "for i in ytest:\n",
        "  tsp.append(np.argmax(i))\n"
      ],
      "metadata": {
        "id": "UuIVCswKumis"
      },
      "execution_count": null,
      "outputs": []
    },
    {
      "cell_type": "code",
      "source": [
        "tss=[]\n",
        "for i in ytest:\n",
        "  tss.append(np.argmax(i))"
      ],
      "metadata": {
        "id": "sux1uUS2vBFY"
      },
      "execution_count": null,
      "outputs": []
    },
    {
      "cell_type": "code",
      "source": [
        "ytestp=model.predict(xtest)\n",
        "from sklearn.metrics import confusion_matrix\n",
        "confusion_matrix(tsp,tss)"
      ],
      "metadata": {
        "colab": {
          "base_uri": "https://localhost:8080/"
        },
        "id": "1Luhr54QtOyH",
        "outputId": "563b988f-4d7e-4b82-ab9d-02573d6e712b"
      },
      "execution_count": null,
      "outputs": [
        {
          "output_type": "execute_result",
          "data": {
            "text/plain": [
              "array([[ 980,    0,    0,    0,    0,    0,    0,    0,    0,    0],\n",
              "       [   0, 1135,    0,    0,    0,    0,    0,    0,    0,    0],\n",
              "       [   0,    0, 1032,    0,    0,    0,    0,    0,    0,    0],\n",
              "       [   0,    0,    0, 1010,    0,    0,    0,    0,    0,    0],\n",
              "       [   0,    0,    0,    0,  982,    0,    0,    0,    0,    0],\n",
              "       [   0,    0,    0,    0,    0,  892,    0,    0,    0,    0],\n",
              "       [   0,    0,    0,    0,    0,    0,  958,    0,    0,    0],\n",
              "       [   0,    0,    0,    0,    0,    0,    0, 1028,    0,    0],\n",
              "       [   0,    0,    0,    0,    0,    0,    0,    0,  974,    0],\n",
              "       [   0,    0,    0,    0,    0,    0,    0,    0,    0, 1009]])"
            ]
          },
          "metadata": {},
          "execution_count": 41
        }
      ]
    }
  ]
}